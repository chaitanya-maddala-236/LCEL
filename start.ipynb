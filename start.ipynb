{
 "cells": [
  {
   "cell_type": "code",
   "execution_count": null,
   "id": "da281f35",
   "metadata": {},
   "outputs": [],
   "source": []
  },
  {
   "cell_type": "markdown",
   "id": "10e48b43",
   "metadata": {},
   "source": [
    "## Getting started with Langchain And Open Ai\n",
    "\n",
    "### Topics covered :\n",
    "\n",
    "- LangChain \n",
    "- LangChain components \n",
    "    - prompt templates\n",
    "    - models \n",
    "    - output parsers \n",
    "- Building simple Application \n",
    "- Tracing/Monitoring application with LangSmith \n",
    "- Serving application with LangServe"
   ]
  },
  {
   "cell_type": "markdown",
   "id": "d36ae899",
   "metadata": {},
   "source": [
    "### Importance Components of Langchain \n",
    "\n",
    "#### RAG\n",
    "\n",
    "STEP 1:\n",
    "\n",
    "    LOAD-> SPLIT -> EMBED-> STORE \n",
    "\n",
    "- LOAD\n",
    "    - UPON : DATA SOURCES\n",
    "    - DATA INGESTION (LANGCHAIN)\n",
    "\n",
    "- SPLIT \n",
    "    - HAPPEING : DATA TRANSFORMORTION \n",
    "    - DATA -> TEXT CHUNKS \n",
    "    - BECAUSE : CONTEXT SIZE \n",
    "\n",
    "- EMBEDDING \n",
    "    - TEXT WILL BE CONVERTED VECTORS \n",
    "\n",
    "- STORE \n",
    "    - VECTOR DB\n",
    "        - FAISS\n",
    "        - CHROMA DB\n",
    "        - ASTRA DB\n",
    "\n",
    "\n",
    "[image.png](attachment:image.png) "
   ]
  },
  {
   "cell_type": "code",
   "execution_count": null,
   "id": "6eb9b5fa",
   "metadata": {},
   "outputs": [],
   "source": []
  },
  {
   "cell_type": "code",
   "execution_count": null,
   "id": "1414c709",
   "metadata": {},
   "outputs": [],
   "source": []
  }
 ],
 "metadata": {
  "kernelspec": {
   "display_name": "Python 3",
   "language": "python",
   "name": "python3"
  },
  "language_info": {
   "name": "python",
   "version": "3.13.0"
  }
 },
 "nbformat": 4,
 "nbformat_minor": 5
}
